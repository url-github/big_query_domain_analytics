{
  "nbformat": 4,
  "nbformat_minor": 0,
  "metadata": {
    "colab": {
      "provenance": [],
      "authorship_tag": "ABX9TyMGOZ/qrVskUPPdsVK8/fKr"
    },
    "kernelspec": {
      "name": "python3",
      "display_name": "Python 3"
    },
    "language_info": {
      "name": "python"
    }
  },
  "cells": [
    {
      "cell_type": "code",
      "execution_count": null,
      "metadata": {
        "colab": {
          "base_uri": "https://localhost:8080/"
        },
        "id": "4b6zx_QZJRZp",
        "outputId": "d85f17a8-bb92-4152-85da-1633e44559e2"
      },
      "outputs": [
        {
          "output_type": "stream",
          "name": "stdout",
          "text": [
            "Authenticated\n"
          ]
        }
      ],
      "source": [
        "from google.colab import auth\n",
        "auth.authenticate_user()\n",
        "print('Authenticated')\n",
        "%load_ext google.colab.data_table"
      ]
    },
    {
      "cell_type": "code",
      "source": [
        "%%bigquery --project empik-ga360\n",
        "\n",
        "SELECT\n",
        "    PARSE_DATE('%Y%m%d', CAST(date AS STRING)) as true_date,\n",
        "    concat(EXTRACT(ISOYEAR FROM PARSE_DATE('%Y%m%d', CAST(date AS STRING)) ), \n",
        "    EXTRACT(ISOWEEK FROM PARSE_DATE('%Y%m%d', CAST(date AS STRING)))) iso_week_of_year,\n",
        "    format_date('%Y%m',parse_date(\"%Y%m%d\",date)) as month_of_year,\n",
        "    case when device.deviceCategory like 'mobile' then 'mobile' else 'desktop' end device, \n",
        "    trafficSource.source, trafficSource.medium, trafficSource.campaign, \n",
        "    sum(totals.visits) sesje, \n",
        "    sum(totals.totalTransactionRevenue/1000000) przychod, \n",
        "    sum(totals.transactions) transakcje\n",
        "FROM\n",
        "    `empik-ga360.304756.ga_sessions_*`\n",
        "WHERE\n",
        "    -- _table_suffix between '20211226' and '20211226'\n",
        "    _table_suffix = FORMAT_DATE(\"%Y%m%d\", DATE_SUB(CURRENT_DATE(), INTERVAL 1 DAY))\n",
        "group by 1,2,3,4,5,6,7\n",
        "order by true_date desc\n",
        "limit 5"
      ],
      "metadata": {
        "id": "ttJu-U7kJYg6"
      },
      "execution_count": null,
      "outputs": []
    },
    {
      "cell_type": "code",
      "source": [
        "%%bigquery --project empik-ga360\n",
        "\n",
        "SELECT\n",
        "    PARSE_DATE('%Y%m%d', CAST(date AS STRING)) as true_date,\n",
        "    concat(EXTRACT(ISOYEAR FROM PARSE_DATE('%Y%m%d', CAST(date AS STRING)) ), \n",
        "    EXTRACT(ISOWEEK FROM PARSE_DATE('%Y%m%d', CAST(date AS STRING)))) iso_week_of_year,\n",
        "    format_date('%Y%m',parse_date(\"%Y%m%d\",date)) as month_of_year,\n",
        "    sum(totals.visits) sesje, \n",
        "    sum(totals.totalTransactionRevenue/1000000) przychod, \n",
        "    sum(totals.transactions) transakcje\n",
        "FROM\n",
        "    `empik-ga360.304756.ga_sessions_*`\n",
        "WHERE\n",
        "    -- _table_suffix between '20211226' and '20211226'\n",
        "    _table_suffix = FORMAT_DATE(\"%Y%m%d\", DATE_SUB(CURRENT_DATE(), INTERVAL 1 DAY))\n",
        "group by 1,2,3\n",
        "order by true_date desc"
      ],
      "metadata": {
        "id": "V_hxpnaETpq8"
      },
      "execution_count": null,
      "outputs": []
    },
    {
      "cell_type": "markdown",
      "source": [
        "users from GA"
      ],
      "metadata": {
        "id": "Q82UNrkKRiq1"
      }
    },
    {
      "cell_type": "code",
      "source": [
        "%%bigquery --project empik-ga360\n",
        "\n",
        "select \n",
        "u.true_date, \n",
        "u.iso_week_of_year, \n",
        "u.month_of_year, \n",
        "u.device, \n",
        "u.source,\n",
        "u.medium, \n",
        "u.campaign, \n",
        "sum(u.uzytkownicy) users, \n",
        "sum(nu.uzytkownicy) \n",
        "new_usewrs \n",
        "\n",
        "from (\n",
        "SELECT\n",
        "    PARSE_DATE('%Y%m%d', CAST(date AS STRING)) as true_date,\n",
        "    concat(EXTRACT(ISOYEAR FROM PARSE_DATE('%Y%m%d', CAST(date AS STRING))), \n",
        "    EXTRACT(ISOWEEK FROM PARSE_DATE('%Y%m%d', CAST(date AS STRING)))) iso_week_of_year,\n",
        "    format_date('%Y%m',parse_date(\"%Y%m%d\",date)) as month_of_year,\n",
        "    case when device.deviceCategory like 'mobile' then 'mobile' else 'desktop' end device, \n",
        "    trafficSource.source, \n",
        "    trafficSource.medium, \n",
        "    trafficSource.campaign, \n",
        "    count(distinct fullVisitorId) uzytkownicy\n",
        "\n",
        "FROM\n",
        "    `empik-ga360.304756.ga_sessions_*`\n",
        "WHERE\n",
        "    -- _table_suffix between '20211226' and '20211226'\n",
        "    _table_suffix = FORMAT_DATE(\"%Y%m%d\", DATE_SUB(CURRENT_DATE(), INTERVAL 1 DAY))\n",
        "group by 1,2,3,4,5,6,7\n",
        ") u \n",
        "\n",
        "left join (\n",
        "SELECT\n",
        "    PARSE_DATE('%Y%m%d', CAST(date AS STRING)) as true_date,\n",
        "    concat(EXTRACT(ISOYEAR FROM PARSE_DATE('%Y%m%d', CAST(date AS STRING))), \n",
        "    EXTRACT(ISOWEEK FROM PARSE_DATE('%Y%m%d', CAST(date AS STRING)))) iso_week_of_year,\n",
        "    format_date('%Y%m',parse_date(\"%Y%m%d\",date)) as month_of_year,\n",
        "    case when device.deviceCategory like 'mobile' then 'mobile' else 'desktop' end device, \n",
        "    trafficSource.source, \n",
        "    trafficSource.medium, \n",
        "    trafficSource.campaign, \n",
        "    count(distinct fullVisitorId) uzytkownicy\n",
        "\n",
        "FROM\n",
        "    `empik-ga360.304756.ga_sessions_*`\n",
        "WHERE\n",
        "    -- _table_suffix between '20211226' and '20211226'\n",
        "    _table_suffix = FORMAT_DATE(\"%Y%m%d\", DATE_SUB(CURRENT_DATE(), INTERVAL 1 DAY))\n",
        "    and visitNumber=1\n",
        "group by 1,2,3,4,5,6,7\n",
        ") nu on u.true_date=nu.true_date and u.device=nu.device and u.source=nu.source and u.medium=nu.medium and u.campaign=nu.campaign\n",
        "group by 1,2,3,4,5,6,7\n",
        "limit 5"
      ],
      "metadata": {
        "id": "UPctA6RDRjLK"
      },
      "execution_count": null,
      "outputs": []
    },
    {
      "cell_type": "markdown",
      "source": [
        "GA Basic Metrics + Devices + Quantity"
      ],
      "metadata": {
        "id": "vK1G-EGqvHty"
      }
    },
    {
      "cell_type": "code",
      "source": [
        "%%bigquery --project empik-ga360\n",
        "\n",
        "select \n",
        "b.true_date, \n",
        "b.iso_week_of_year, \n",
        "b.month_of_year, \n",
        "b.device,\n",
        "b.source, \n",
        "b.medium, \n",
        "b.campaign, \n",
        "b.sesje, \n",
        "b.przychod, \n",
        "b.transakcje,\n",
        "q.quantity  \n",
        "\n",
        "from \n",
        "(SELECT\n",
        "    PARSE_DATE('%Y%m%d', CAST(date AS STRING)) as true_date,\n",
        "    concat(EXTRACT(ISOYEAR FROM PARSE_DATE('%Y%m%d', CAST(date AS STRING))), \n",
        "    EXTRACT(ISOWEEK FROM PARSE_DATE('%Y%m%d', CAST(date AS STRING)))) iso_week_of_year,\n",
        "    format_date('%Y%m',parse_date(\"%Y%m%d\",date)) as month_of_year,\n",
        "    case when device.deviceCategory like 'mobile' then 'mobile' else 'desktop' end device, \n",
        "    trafficSource.source, \n",
        "    trafficSource.medium, \n",
        "    trafficSource.campaign, \n",
        "    sum(totals.visits) sesje, \n",
        "    sum(totals.totalTransactionRevenue/1000000) przychod, \n",
        "    sum(totals.transactions) transakcje\n",
        "FROM\n",
        "    `empik-ga360.304756.ga_sessions_*`\n",
        "WHERE\n",
        "    -- _table_suffix between '20211226' and '20211226'\n",
        "    _table_suffix = FORMAT_DATE(\"%Y%m%d\", DATE_SUB(CURRENT_DATE(), INTERVAL 1 DAY))\n",
        "group by 1,2,3,4,5,6,7) b\n",
        "\n",
        "left join (\n",
        "SELECT\n",
        "    PARSE_DATE('%Y%m%d', CAST(date AS STRING)) as true_date,\n",
        "    concat(EXTRACT(ISOYEAR FROM PARSE_DATE('%Y%m%d', CAST(date AS STRING))), \n",
        "    EXTRACT(ISOWEEK FROM PARSE_DATE('%Y%m%d', CAST(date AS STRING)))) iso_week_of_year,\n",
        "    format_date('%Y%m',parse_date(\"%Y%m%d\",date)) as month_of_year,\n",
        "    case when device.deviceCategory like 'mobile' then 'mobile' else 'desktop' end device, \n",
        "    trafficSource.source, trafficSource.medium, trafficSource.campaign, \n",
        "    sum(product.productQuantity) quantity\n",
        "FROM\n",
        "    `empik-ga360.304756.ga_sessions_*`, unnest(hits) as hits, unnest(hits.product) as product\n",
        "WHERE\n",
        "    -- _table_suffix between '20211226' and '20211226'\n",
        "    _table_suffix = FORMAT_DATE(\"%Y%m%d\", DATE_SUB(CURRENT_DATE(), INTERVAL 1 DAY))\n",
        "    and eCommerceAction.action_type = '6' # Zrealizowany zakup = 6.\n",
        "group by 1,2,3,4,5,6,7 \n",
        ") q on b.true_date=q.true_date and b.device=q.device and b.source=q.source and b.medium=q.medium and b.campaign=q.campaign\n",
        "limit 5"
      ],
      "metadata": {
        "id": "QuR0pV6YvIMz"
      },
      "execution_count": null,
      "outputs": []
    }
  ]
}