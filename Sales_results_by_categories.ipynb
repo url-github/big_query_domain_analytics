{
  "nbformat": 4,
  "nbformat_minor": 0,
  "metadata": {
    "colab": {
      "provenance": [],
      "authorship_tag": "ABX9TyN1dpGGiorZpSCwKQRq5rls"
    },
    "kernelspec": {
      "name": "python3",
      "display_name": "Python 3"
    },
    "language_info": {
      "name": "python"
    }
  },
  "cells": [
    {
      "cell_type": "code",
      "source": [
        "%%bigquery \n",
        "\n",
        "SELECT\n",
        "    PARSE_DATE('%Y%m%d', CAST(date AS STRING)) as true_date,\n",
        "    concat(EXTRACT(ISOYEAR FROM PARSE_DATE('%Y%m%d', CAST(date AS STRING))), EXTRACT(ISOWEEK FROM PARSE_DATE('%Y%m%d', CAST(date AS STRING)))) iso_week_of_year,\n",
        "    format_date('%Y%m',parse_date(\"%Y%m%d\",date)) as month_of_year,\n",
        "    case when device.deviceCategory like 'mobile' then 'mobile' else 'desktop' end device, \n",
        "    \n",
        "    product.productSku, product.v2ProductName, sum(product.productQuantity) quantity, sum(product.productRevenue/1000000) revenue\n",
        "FROM\n",
        "    `empik-ga360.304756.ga_sessions_*`, unnest(hits) as hits, unnest(hits.product) as product\n",
        "WHERE\n",
        "    -- _table_suffix between '20211226' and '20211226'\n",
        "    _table_suffix = FORMAT_DATE(\"%Y%m%d\", DATE_SUB(CURRENT_DATE(), INTERVAL 1 DAY))\n",
        "    and hits.ecommerceAction.action_type = '6'\n",
        "group by 1,2,3,4,5,6\n",
        "limit 5"
      ],
      "metadata": {
        "id": "S-WafyC1vbRt"
      },
      "execution_count": null,
      "outputs": []
    }
  ]
}