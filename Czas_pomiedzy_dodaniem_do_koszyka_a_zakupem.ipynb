{
  "nbformat": 4,
  "nbformat_minor": 0,
  "metadata": {
    "colab": {
      "provenance": [],
      "authorship_tag": "ABX9TyNoBt2xj2wtrjLBTLom45mW"
    },
    "kernelspec": {
      "name": "python3",
      "display_name": "Python 3"
    },
    "language_info": {
      "name": "python"
    }
  },
  "cells": [
    {
      "cell_type": "markdown",
      "source": [
        "The script calculates the average time needed to purchase from the moment the product was added to the cart."
      ],
      "metadata": {
        "id": "ZAbfSwd_L6tp"
      }
    },
    {
      "cell_type": "code",
      "metadata": {
        "id": "bdQE4DVO7CgP"
      },
      "source": [
        "%%bigquery \n",
        "\n",
        "with addToCart as (\n",
        "select \n",
        "    PARSE_DATE('%Y%m%d', CAST(date AS STRING)) as true_date, \n",
        "    device.deviceCategory device,\n",
        "    format_date('%Y%U',parse_date(\"%Y%m%d\",date)) as week_of_year,\n",
        "    format_date('%Y%m',parse_date(\"%Y%m%d\",date)) as month_of_year,\n",
        "    fullvisitorid,\n",
        "    visitid,\n",
        "    case when (SELECT value FROM hits.customDimensions WHERE index=51) in ('Zalogowany') then true else false end status, \n",
        "    hits.eCommerceAction.action_type, \n",
        "    min(hits.time) add_to_basket\n",
        "FROM `empik-ga360.304756.ga_sessions_*` t, unnest(hits) as hits, unnest(product) as product\n",
        "WHERE\n",
        "    -- _table_suffix between '20200101' and '20211214'\n",
        "    _table_suffix = FORMAT_DATE(\"%Y%m%d\", DATE_SUB(CURRENT_DATE(), INTERVAL 1 DAY))\n",
        "and \n",
        "    (hits.eCommerceAction.action_type='3')\n",
        "group by \n",
        "    1,2,3,4,5,6,7,8\n",
        "having \n",
        "    add_to_basket > 0\n",
        "),\n",
        "\n",
        "bought as (\n",
        "select \n",
        "    PARSE_DATE('%Y%m%d', CAST(date AS STRING)) as true_date, \n",
        "    device.deviceCategory device,\n",
        "    format_date('%Y%U',parse_date(\"%Y%m%d\",date)) as week_of_year,\n",
        "    format_date('%Y%m',parse_date(\"%Y%m%d\",date)) as month_of_year,\n",
        "    fullvisitorid,\n",
        "    visitid,\n",
        "    case when (SELECT value FROM hits.customDimensions WHERE index=51) in ('Zalogowany') then true else false end status, \n",
        "    hits.eCommerceAction.action_type,\n",
        "    min(hits.time) bought\n",
        "FROM `empik-ga360.304756.ga_sessions_*` t, unnest(hits) as hits, unnest(product) as product\n",
        "WHERE\n",
        "    -- _table_suffix between '20200101' and '20211214'\n",
        "    _table_suffix = FORMAT_DATE(\"%Y%m%d\", DATE_SUB(CURRENT_DATE(), INTERVAL 1 DAY))\n",
        "    and (hits.eCommerceAction.action_type='6')\n",
        "group by \n",
        "    1,2,3,4,5,6,7,8\n",
        "having \n",
        "    bought > 0\n",
        ")\n",
        "\n",
        "select \n",
        "    true_date,\n",
        "    week_of_year,\n",
        "    month_of_year,\n",
        "    device,\n",
        "    status,\n",
        "    avg(roznica) avg_roznica,\n",
        "\n",
        "from (\n",
        "select a.true_date, a.week_of_year, a.month_of_year, case when a.device like 'mobile' then 'mobile' else 'desktop' end device, a.status, a.add_to_basket, b.bought, (b.bought-a.add_to_basket)/1000 roznica\n",
        "from addToCart a left join bought b on a.fullvisitorid=b.fullvisitorid and a.visitid=b.visitid and a.device=b.device and a.status=b.status\n",
        "where bought > 0\n",
        ")\n",
        "group by 1,2,3,4,5\n",
        "order by 1 desc"
      ],
      "execution_count": null,
      "outputs": []
    }
  ]
}