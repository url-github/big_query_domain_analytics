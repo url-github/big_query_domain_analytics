{
  "nbformat": 4,
  "nbformat_minor": 0,
  "metadata": {
    "colab": {
      "provenance": [],
      "authorship_tag": "ABX9TyNWDgTQwZQRXZdBmTnjY18M"
    },
    "kernelspec": {
      "name": "python3",
      "display_name": "Python 3"
    },
    "language_info": {
      "name": "python"
    }
  },
  "cells": [
    {
      "cell_type": "code",
      "execution_count": null,
      "metadata": {
        "colab": {
          "base_uri": "https://localhost:8080/"
        },
        "id": "MeVaO8R2wzzX",
        "outputId": "3bee663a-51e4-418a-ca72-17ed0125e47d"
      },
      "outputs": [
        {
          "output_type": "stream",
          "name": "stdout",
          "text": [
            "Authenticated\n"
          ]
        }
      ],
      "source": [
        "from google.colab import auth\n",
        "auth.authenticate_user()\n",
        "print('Authenticated')\n",
        "%load_ext google.colab.data_table"
      ]
    },
    {
      "cell_type": "markdown",
      "source": [
        "Funkcja RAND() generuje pseudolosową wartość typu FLOAT64 z zakresu [0, 1), włącznie z 0 i bez 1. Sposób użycia jej do próbkowania jest podobny do tego, w jaki użyłbyś funkcji FARM_FINGERPRINT, ale nie musisz określać żadnego istniejącego klucza. RAND() zapewnia równomierny rozkład, więc jeśli niektóre kolumny mają pochylenie, w próbce oczekuje się tego samego pochylenia. Przykład próbkowania 10% danych w tabeli:"
      ],
      "metadata": {
        "id": "xA9yn7QcSG0a"
      }
    },
    {
      "cell_type": "code",
      "source": [
        "%%bigquery --project empik-ga360\n",
        "\n",
        "SELECT * FROM Table WHERE RAND() < 0.1"
      ],
      "metadata": {
        "id": "9n6xkQC5TNj8"
      },
      "execution_count": null,
      "outputs": []
    },
    {
      "cell_type": "markdown",
      "source": [
        "SEM slownik"
      ],
      "metadata": {
        "id": "uBREYULPTH1n"
      }
    },
    {
      "cell_type": "code",
      "source": [
        "%%bigquery --project empik-ga360\n",
        "\n",
        "select campaign, campaignId \n",
        "\n",
        "from (\n",
        "    \n",
        "SELECT\n",
        "    date,\n",
        "    trafficSource.campaign, # Wartość kampanii. Zwykle wyznaczana przez parametr adresu URL utm_campaign\n",
        "    totals.visits, # Liczba sesji (dla wygody). Ta wartość wynosi 1 dla sesji ze zdarzeniami interakcji; zero – jeśli w sesji nie ma żadnych zdarzeń interakcji.\n",
        "    trafficSource.adwordsClickInfo.campaignId, # Ta sekcja zawiera informacje o kliknięciach w Google Ads, jeśli są jakieś kliknięcia powiązane z daną sesją. Analytics korzysta z modelu ostatniego kliknięcia niebezpośredniego.\n",
        "    RANK() OVER(PARTITION BY trafficSource.adwordsClickInfo.campaignId ORDER BY date DESC, totals.visits desc, rand() desc) AS rank,\n",
        "FROM\n",
        "    `empik-ga360.304756.ga_sessions_*`\n",
        "WHERE\n",
        "    -- _table_suffix between '20211226' and '20211226'\n",
        "    _table_suffix = FORMAT_DATE(\"%Y%m%d\", DATE_SUB(CURRENT_DATE(), INTERVAL 1 DAY))\n",
        "    and trafficSource.adwordsClickInfo.campaignId is not null\n",
        "group by 1,2,3,4\n",
        ")\n",
        "where rank = 1\n",
        "limit 5"
      ],
      "metadata": {
        "id": "JH7q6ePEw4l9"
      },
      "execution_count": null,
      "outputs": []
    }
  ]
}